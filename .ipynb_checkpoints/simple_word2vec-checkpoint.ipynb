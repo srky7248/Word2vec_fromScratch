{
 "cells": [
  {
   "cell_type": "code",
   "execution_count": 2,
   "id": "e59db239",
   "metadata": {},
   "outputs": [],
   "source": [
    "class SimpleCBOW:\n",
    "    def __init__(self, vocab_size, hidden_size):\n",
    "        V, H = vocab_size, hidden_size\n",
    "        \n",
    "        W_in = 0.01 * np.random.randn(V, H).astype('f')\n",
    "        W_out = 0.01 * np.random.rand(V, H).astype('f')\n",
    "        \n",
    "        self.in_layer0 = MatMul(W_in)\n",
    "        self.in_layer1 = MatMul(W_in)\n",
    "        self.out_layer = MatMul(W_out)\n",
    "        self.loss_layer = SoftmaxWithLoss()\n",
    "        \n",
    "        layers = [self.in_layer0, self.in_layer1, self.out_layer]\n",
    "        self.params, self.grads = [], []\n",
    "        for layer in layers:\n",
    "            self.params += layer.params\n",
    "            self.grads += layer.grads\n",
    "        \n",
    "        self.word_vecs = W_in"
   ]
  },
  {
   "cell_type": "code",
   "execution_count": 3,
   "id": "aca42572",
   "metadata": {},
   "outputs": [],
   "source": [
    "def forward(self, contexts, targets):\n",
    "    h0 = self.in_layer0.forward(contexts[:, 0])\n",
    "    h1 = self.in_layer1.forward(contexts[:, 1])\n",
    "    h = (h0 + h1) * 0.5\n",
    "    score = self.out_layer.forward(h)\n",
    "    loss = self.loss_layer.forward(score, target)\n",
    "    return loss"
   ]
  },
  {
   "cell_type": "code",
   "execution_count": 4,
   "id": "78fccd85",
   "metadata": {},
   "outputs": [],
   "source": [
    "def backward(self, dout=1):\n",
    "    ds = self.loss_layer.backward(dout)\n",
    "    da = self.out_layer.backward(ds)\n",
    "    da *= 0.5\n",
    "    self.in_layer1.backward(da)\n",
    "    self.in_layer0.backward(da)\n",
    "    return None"
   ]
  },
  {
   "cell_type": "code",
   "execution_count": 5,
   "id": "da0b5699",
   "metadata": {},
   "outputs": [
    {
     "name": "stdout",
     "output_type": "stream",
     "text": [
      "Current Directory: C:\\Users\\yudi0\\studies_nlp\\application_development\\Word2vec_scratch\\simple_word2vec\n"
     ]
    }
   ],
   "source": [
    "import os\n",
    "current_directory = os.getcwd()\n",
    "print(\"Current Directory:\", current_directory)\n"
   ]
  },
  {
   "cell_type": "code",
   "execution_count": null,
   "id": "a7c8a796",
   "metadata": {},
   "outputs": [],
   "source": []
  }
 ],
 "metadata": {
  "kernelspec": {
   "display_name": "chatbot",
   "language": "python",
   "name": "chatbot"
  },
  "language_info": {
   "codemirror_mode": {
    "name": "ipython",
    "version": 3
   },
   "file_extension": ".py",
   "mimetype": "text/x-python",
   "name": "python",
   "nbconvert_exporter": "python",
   "pygments_lexer": "ipython3",
   "version": "3.10.13"
  }
 },
 "nbformat": 4,
 "nbformat_minor": 5
}
